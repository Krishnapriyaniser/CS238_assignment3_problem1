{
 "cells": [
  {
   "cell_type": "code",
   "execution_count": null,
   "id": "2a6972c1-855a-46ee-8b75-3e4aa5be68a2",
   "metadata": {},
   "outputs": [],
   "source": [
    "#my codes are jupyter lab format!!!!"
   ]
  },
  {
   "cell_type": "code",
   "execution_count": 5,
   "id": "2d6ffa2a-f63d-47c4-a379-389fad4f3ca2",
   "metadata": {
    "scrolled": true
   },
   "outputs": [
    {
     "name": "stdout",
     "output_type": "stream",
     "text": [
      "Requirement already satisfied: biopython in /opt/anaconda3/lib/python3.12/site-packages (1.85)\n",
      "Requirement already satisfied: numpy in /opt/anaconda3/lib/python3.12/site-packages (from biopython) (1.26.4)\n"
     ]
    }
   ],
   "source": [
    "!pip install biopython"
   ]
  },
  {
   "cell_type": "code",
   "execution_count": null,
   "id": "d097aa4d-ba7a-4345-8638-30a06029aa75",
   "metadata": {},
   "outputs": [],
   "source": [
    "#scoring matrix"
   ]
  },
  {
   "cell_type": "code",
   "execution_count": 7,
   "id": "4be29d35-c471-40a2-9f6b-49942bf1ac92",
   "metadata": {},
   "outputs": [],
   "source": [
    "%%bash\n",
    "cat > scoring.txt << 'EOF'\n",
    "A C G T -\n",
    "A  5 -4 -4 -4 -8\n",
    "C -4  5 -4 -4 -8\n",
    "G -4 -4  5 -4 -8\n",
    "T -4 -4 -4  5 -8\n",
    "- -8 -8 -8 -8  0\n",
    "EOF"
   ]
  },
  {
   "cell_type": "code",
   "execution_count": 9,
   "id": "f1cce895-5610-48b6-bcb8-0e80882fabbe",
   "metadata": {},
   "outputs": [],
   "source": [
    "from Bio import Entrez, SeqIO\n",
    "Entrez.email = \"kkm001@ucr.edu\"  "
   ]
  },
  {
   "cell_type": "code",
   "execution_count": 11,
   "id": "bd41cc70-528f-4782-963f-7ca6fcbf0ec5",
   "metadata": {},
   "outputs": [],
   "source": [
    "from typing import Tuple, Dict\n",
    "\n",
    "NEG_INF = float('-inf')\n",
    "# Reading fasta and and concatinating the DNA sequences\n",
    "def read_fasta(path: str) -> str:\n",
    "    seq = []\n",
    "    with open(path) as f:\n",
    "        for line in f:\n",
    "            if line.startswith('>'): continue\n",
    "            seq.append(line.strip())\n",
    "    return ''.join(seq)\n",
    "\n",
    "def read_scoring(path: str) -> Dict[Tuple[str,str],int]:\n",
    "    mat = {}\n",
    "    with open(path) as f:\n",
    "        keys = f.readline().split()\n",
    "        for line in f:\n",
    "            parts = line.split()\n",
    "            a = parts[0]\n",
    "            for b,v in zip(keys, parts[1:]):\n",
    "                mat[(a,b)] = int(v)\n",
    "    return mat\n",
    "# scoring of 2 elements\n",
    "def sp_pair(a, b, scoring):\n",
    "    return scoring[(a,b)]\n",
    "# scoring of 3 elements\n",
    "def sp_triple(x, y, z, scoring):\n",
    "    return sp_pair(x,y,scoring) + sp_pair(x,z,scoring) + sp_pair(y,z,scoring)\n",
    "\n",
    "def forward_scores(x, y, z, scoring):\n",
    "    m,n,p = len(x), len(y), len(z)\n",
    "    prev = [[NEG_INF]*(p+1) for _ in range(n+1)]\n",
    "    prev[0][0] = 0\n",
    "    #Computing scores of string y and string z.\n",
    "    for j in range(n+1):\n",
    "        for k in range(p+1):\n",
    "            if j and k:#substitution or matching case\n",
    "                prev[j][k] = max(prev[j][k], prev[j-1][k-1] + sp_triple('-',y[j-1],z[k-1],scoring))\n",
    "            if j:#gap in z\n",
    "                prev[j][k] = max(prev[j][k], prev[j-1][k]   + sp_triple('-',y[j-1],'-',scoring))\n",
    "            if k:#gap in y\n",
    "                prev[j][k] = max(prev[j][k], prev[j][k-1]   + sp_triple('-','-',z[k-1],scoring))\n",
    "       \n",
    "   #Computing scores of string x,y and string z. \n",
    "    for i in range(1,m+1):\n",
    "        curr = [[NEG_INF]*(p+1) for _ in range(n+1)]#creating a 3D list\n",
    "        curr[0][0] = prev[0][0] + sp_triple(x[i-1],'-','-',scoring)\n",
    "        for j in range(n+1):\n",
    "            for k in range(p+1):\n",
    "                best = prev[j][k] + sp_triple(x[i-1],'-','-',scoring)#allign x[i-1] with gaps in y and z\n",
    "                # foloowing checks if we can find a better alignment\n",
    "                if j and k:#substitution or matching case\n",
    "                    best = max(best, prev[j-1][k-1] + sp_triple(x[i-1],y[j-1],z[k-1],scoring))\n",
    "                if j:#gap in z\n",
    "                    best = max(best, prev[j-1][k]   + sp_triple(x[i-1],y[j-1],'-',scoring))\n",
    "                if k:#gap in y\n",
    "                    best = max(best, prev[j][k-1]   + sp_triple(x[i-1],'-',z[k-1],scoring))\n",
    "                if j and k: #gap in x\n",
    "                    best = max(best, curr[j-1][k-1] + sp_triple('-',y[j-1],z[k-1],scoring))\n",
    "                if j:#gap in x and z\n",
    "                    best = max(best, curr[j-1][k]   + sp_triple('-',y[j-1],'-',scoring))\n",
    "                if k:# gap in x and y\n",
    "                    best = max(best, curr[j][k-1]   + sp_triple('-','-',z[k-1],scoring))\n",
    "                curr[j][k] = best\n",
    "        prev = curr\n",
    "    return prev\n",
    "#I have a gut feeling that these recursive steps can be written in a fewer lines of code But this is the best i could do:(\n",
    "def backward_scores(x, y, z, scoring):#will be used for hirschberg\n",
    "    plane = forward_scores(x[::-1], y[::-1], z[::-1], scoring)\n",
    "    n,p = len(y), len(z)\n",
    "    out = [[0]*(p+1) for _ in range(n+1)]\n",
    "    for j in range(n+1):\n",
    "        for k in range(p+1):\n",
    "            out[j][k] = plane[n-j][p-k]\n",
    "    return out\n",
    "\n",
    "def dp_fill(x, y, z, scoring):#DP table\n",
    "    m,n,p = len(x), len(y), len(z)\n",
    "    dp = [[[NEG_INF]*(p+1) for _ in range(n+1)] for _ in range(m+1)]#best score for aligning prefixes\n",
    "    bt = [[[None]*(p+1)   for _ in range(n+1)] for _ in range(m+1)]# backtracking info\n",
    "    dp[0][0][0] = 0\n",
    "    for i in range(m+1):#recursions for filling table entries\n",
    "        for j in range(n+1):\n",
    "            for k in range(p+1):\n",
    "                if i:\n",
    "                    v = dp[i-1][j][k] + sp_triple(x[i-1],'-','-',scoring)\n",
    "                    if v>dp[i][j][k]: dp[i][j][k],bt[i][j][k] = v,('X',i-1,j,k)\n",
    "                if j:\n",
    "                    v = dp[i][j-1][k] + sp_triple('-',y[j-1],'-',scoring)\n",
    "                    if v>dp[i][j][k]: dp[i][j][k],bt[i][j][k] = v,('Y',i,j-1,k)\n",
    "                if k:\n",
    "                    v = dp[i][j][k-1] + sp_triple('-','-',z[k-1],scoring)\n",
    "                    if v>dp[i][j][k]: dp[i][j][k],bt[i][j][k] = v,('Z',i,j,k-1)\n",
    "                if i and j:\n",
    "                    v = dp[i-1][j-1][k] + sp_triple(x[i-1],y[j-1],'-',scoring)\n",
    "                    if v>dp[i][j][k]: dp[i][j][k],bt[i][j][k] = v,('XY',i-1,j-1,k)\n",
    "                if i and k:\n",
    "                    v = dp[i-1][j][k-1] + sp_triple(x[i-1],'-',z[k-1],scoring)\n",
    "                    if v>dp[i][j][k]: dp[i][j][k],bt[i][j][k] = v,('XZ',i-1,j,k-1)\n",
    "                if j and k:\n",
    "                    v = dp[i][j-1][k-1] + sp_triple('-',y[j-1],z[k-1],scoring)\n",
    "                    if v>dp[i][j][k]: dp[i][j][k],bt[i][j][k] = v,('YZ',i,j-1,k-1)\n",
    "                if i and j and k:\n",
    "                    v = dp[i-1][j-1][k-1] + sp_triple(x[i-1],y[j-1],z[k-1],scoring)\n",
    "                    if v>dp[i][j][k]: dp[i][j][k],bt[i][j][k] = v,('XYZ',i-1,j-1,k-1)\n",
    "    #backtracking--->\n",
    "    A,B,C = [],[],[]\n",
    "    i,j,k = m,n,p \n",
    "    while i or j or k:\n",
    "        op,ii,jj,kk = bt[i][j][k]\n",
    "        if op=='XYZ': A.append(x[ii]);B.append(y[jj]);C.append(z[kk])\n",
    "        elif op=='XY':A.append(x[ii]);B.append(y[jj]);C.append('-')\n",
    "        elif op=='XZ':A.append(x[ii]);B.append('-');C.append(z[kk])\n",
    "        elif op=='YZ':A.append('-');B.append(y[jj]);C.append(z[kk])\n",
    "        elif op=='X': A.append(x[ii]);B.append('-');C.append('-')\n",
    "        elif op=='Y': A.append('-');B.append(y[jj]);C.append('-')\n",
    "        elif op=='Z': A.append('-');B.append('-');C.append(z[kk])\n",
    "        i,j,k = ii,jj,kk\n",
    "    return ''.join(reversed(A)), ''.join(reversed(B)), ''.join(reversed(C)), dp[m][n][p]\n",
    "#hirschberg for reducing space foro the 3D DP table.\n",
    "def hirschberg3(x, y, z, scoring):\n",
    "    m,n,p = len(x), len(y), len(z)\n",
    "    if m*n*p <= 10000 or m<=1 or n<=1 or p<=1:\n",
    "        return dp_fill(x,y,z,scoring)#for small inputs\n",
    "    i_mid = m//2#divide sequence x by 2(to apply the divie and conquer in our DP)\n",
    "    F = forward_scores(x[:i_mid], y, z, scoring)#this combined with the next few steps find the indes of y and z in the best alignment\n",
    "    G = backward_scores(x[i_mid:], y, z, scoring)\n",
    "    best,j_mid,k_mid = NEG_INF,0,0\n",
    "    for j in range(n+1):\n",
    "        for k in range(p+1):\n",
    "            val=F[j][k]+G[j][k]\n",
    "            if val>best: best,j_mid,k_mid=val,j,k\n",
    "    A1,B1,C1,_ = hirschberg3(x[:i_mid], y[:j_mid], z[:k_mid], scoring)#divide and conquer recursions\n",
    "    A2,B2,C2,_ = hirschberg3(x[i_mid:], y[j_mid:], z[k_mid:], scoring)\n",
    "    return A1+A2, B1+B2, C1+C2, best\n"
   ]
  },
  {
   "cell_type": "code",
   "execution_count": 31,
   "id": "da485dda-823c-4db8-a3db-9cb57c63368e",
   "metadata": {},
   "outputs": [
    {
     "name": "stdout",
     "output_type": "stream",
     "text": [
      "CPU times: user 163 μs, sys: 58 μs, total: 221 μs\n",
      "Wall time: 162 μs\n",
      "Score: 25\n",
      ">seq1_aligned\n",
      " GATT\n",
      ">seq2_aligned\n",
      " GACT\n",
      ">seq3_aligned\n",
      " GA-T\n"
     ]
    }
   ],
   "source": [
    "x = \"GATT\"\n",
    "y = \"GACT\"\n",
    "z = \"GAT\"\n",
    "\n",
    "scoring = read_scoring(\"scoring.txt\")\n",
    "\n",
    "%time A, B, C, score = hirschberg3(x, y, z, scoring)\n",
    "\n",
    "# output\n",
    "print(\"Score:\", score)\n",
    "print(\">seq1_aligned\\n\", A)\n",
    "print(\">seq2_aligned\\n\", B)\n",
    "print(\">seq3_aligned\\n\", C)"
   ]
  },
  {
   "cell_type": "code",
   "execution_count": 13,
   "id": "484d9bd5-472c-40bc-860e-7a74e4566227",
   "metadata": {},
   "outputs": [
    {
     "name": "stdout",
     "output_type": "stream",
     "text": [
      "Fetched lengths: 557, 569, 577\n"
     ]
    }
   ],
   "source": [
    "#test case 1\n",
    "def fetch_and_save(acc):\n",
    "    handle = Entrez.efetch(db=\"nucleotide\", id=acc, rettype=\"fasta\", retmode=\"text\")\n",
    "    rec = SeqIO.read(handle, \"fasta\")\n",
    "    handle.close()\n",
    "    fn = f\"{acc}.fasta\"\n",
    "    with open(fn, \"w\") as f:\n",
    "        SeqIO.write(rec, f, \"fasta\")\n",
    "    return str(rec.seq)\n",
    "\n",
    "\n",
    "x = fetch_and_save(\"NM_013096\")\n",
    "y = fetch_and_save(\"NM_008218\")\n",
    "z = fetch_and_save(\"NM_000558\")\n",
    "print(f\"Fetched lengths: {len(x)}, {len(y)}, {len(z)}\")\n"
   ]
  },
  {
   "cell_type": "code",
   "execution_count": 19,
   "id": "a62a06e9-0d4d-4c27-9ea1-ed7b7859f86a",
   "metadata": {},
   "outputs": [],
   "source": [
    "# scoring = read_scoring(\"scoring.txt\")#using the scoring matrix provided to compute the final score\n",
    "# %time A, B, C, score = hirschberg3(x, y, z, scoring)\n",
    "\n",
    "# # output\n",
    "# print(\"Score:\", score)\n",
    "# # print(\">seq1_aligned\\n\", A)\n",
    "# # print(\">seq2_aligned\\n\", B)\n",
    "# # print(\">seq3_aligned\\n\", C)\n"
   ]
  },
  {
   "cell_type": "code",
   "execution_count": 61,
   "id": "6e04be4f-f87b-4d08-8c72-9cf8455a73cd",
   "metadata": {},
   "outputs": [
    {
     "name": "stdout",
     "output_type": "stream",
     "text": [
      "Fetched lengths: 1558, 1652, 1780\n"
     ]
    }
   ],
   "source": [
    "#test case 2\n",
    "def fetch_and_save(acc):\n",
    "    handle = Entrez.efetch(db=\"nucleotide\", id=acc, rettype=\"fasta\", retmode=\"text\")\n",
    "    rec = SeqIO.read(handle, \"fasta\")\n",
    "    handle.close()\n",
    "    fn = f\"{acc}.fasta\"\n",
    "    with open(fn, \"w\") as f:\n",
    "        SeqIO.write(rec, f, \"fasta\")\n",
    "    return str(rec.seq)\n",
    "\n",
    "x = fetch_and_save(\"NM_001030004\")\n",
    "y = fetch_and_save(\"NM_178850\")\n",
    "z = fetch_and_save(\"NM_001287184\")\n",
    "print(f\"Fetched lengths: {len(x)}, {len(y)}, {len(z)}\")\n"
   ]
  },
  {
   "cell_type": "code",
   "execution_count": 21,
   "id": "e38f6de6-df5f-4b83-9678-e71b0c892bd8",
   "metadata": {},
   "outputs": [],
   "source": [
    "# scoring = read_scoring(\"scoring.txt\")\n",
    "\n",
    "# %time A, B, C, score = hirschberg3(x, y, z, scoring)\n",
    "\n",
    "# # output\n",
    "# print(\"Score:\", score)\n",
    "# print(\">seq1_aligned\\n\", A)\n",
    "# print(\">seq2_aligned\\n\", B)\n",
    "# print(\">seq3_aligned\\n\", C)\n",
    "\n"
   ]
  },
  {
   "cell_type": "code",
   "execution_count": 11,
   "id": "66adc659-bdc7-468a-880a-91bf49d8388f",
   "metadata": {},
   "outputs": [
    {
     "name": "stdout",
     "output_type": "stream",
     "text": [
      "Fetched lengths: 1734, 1825, 2791\n"
     ]
    }
   ],
   "source": [
    "#test case 3\n",
    "def fetch_and_save(acc):\n",
    "    handle = Entrez.efetch(db=\"nucleotide\", id=acc, rettype=\"fasta\", retmode=\"text\")\n",
    "    rec = SeqIO.read(handle, \"fasta\")\n",
    "    handle.close()\n",
    "    fn = f\"{acc}.fasta\"\n",
    "    with open(fn, \"w\") as f:\n",
    "        SeqIO.write(rec, f, \"fasta\")\n",
    "    return str(rec.seq)\n",
    "\n",
    "\n",
    "x = fetch_and_save(\"NM_010019\")\n",
    "y = fetch_and_save(\"NM_001243563\")\n",
    "z = fetch_and_save(\"NM_014326\")\n",
    "print(f\"Fetched lengths: {len(x)}, {len(y)}, {len(z)}\")"
   ]
  },
  {
   "cell_type": "code",
   "execution_count": 23,
   "id": "f26f23ed-1c48-42e8-af06-a74d07c1cb6a",
   "metadata": {},
   "outputs": [],
   "source": [
    "# scoring = read_scoring(\"scoring.txt\")\n",
    "\n",
    "# A, B, C, score = hirschberg3(x, y, z, scoring)\n",
    "\n",
    "# print(\"Score:\", score)\n",
    "# # print(\">seq1_aligned\\n\", A)\n",
    "# # print(\">seq2_aligned\\n\", B)\n",
    "# # print(\">seq3_aligned\\n\", C)"
   ]
  },
  {
   "cell_type": "code",
   "execution_count": 37,
   "id": "c2598a70-d594-4bd2-aac0-93a879748579",
   "metadata": {},
   "outputs": [
    {
     "name": "stdout",
     "output_type": "stream",
     "text": [
      "Fetched lengths: 4391, 4739, 4746\n"
     ]
    }
   ],
   "source": [
    "# Test case 4\n",
    "def fetch_and_save(acc):\n",
    "    handle = Entrez.efetch(db=\"nucleotide\", id=acc, rettype=\"fasta\", retmode=\"text\")\n",
    "    rec = SeqIO.read(handle, \"fasta\")\n",
    "    handle.close()\n",
    "    fn = f\"{acc}.fasta\"\n",
    "    with open(fn, \"w\") as f:\n",
    "        SeqIO.write(rec, f, \"fasta\")\n",
    "    return str(rec.seq)\n",
    "\n",
    "x = fetch_and_save(\"NM_008261\")\n",
    "y = fetch_and_save(\"NM_000457\")\n",
    "z = fetch_and_save(\"XM_016937951\")\n",
    "print(f\"Fetched lengths: {len(x)}, {len(y)}, {len(z)}\")"
   ]
  },
  {
   "cell_type": "code",
   "execution_count": 25,
   "id": "3154fe69-9b84-4fe7-af9e-0fef05f51431",
   "metadata": {},
   "outputs": [],
   "source": [
    "# scoring = read_scoring(\"scoring.txt\")\n",
    "\n",
    "# A, B, C, score = hirschberg3(x, y, z, scoring)\n",
    "\n",
    "# # output\n",
    "# print(\"Score:\", score)\n",
    "# # print(\">seq1_aligned\\n\", A)\n",
    "# # print(\">seq2_aligned\\n\", B)\n",
    "# # print(\">seq3_aligned\\n\", C)\n"
   ]
  },
  {
   "cell_type": "code",
   "execution_count": 91,
   "id": "3a27ea32-0611-44ba-952a-5c851bf530c1",
   "metadata": {},
   "outputs": [
    {
     "name": "stdout",
     "output_type": "stream",
     "text": [
      "Fetched lengths: 6070, 6305, 6287\n"
     ]
    }
   ],
   "source": [
    "# Test case 5\n",
    "\n",
    "def fetch_and_save(acc):\n",
    "    handle = Entrez.efetch(db=\"nucleotide\", id=acc, rettype=\"fasta\", retmode=\"text\")\n",
    "    rec = SeqIO.read(handle, \"fasta\")\n",
    "    handle.close()\n",
    "    fn = f\"{acc}.fasta\"\n",
    "    with open(fn, \"w\") as f:\n",
    "        SeqIO.write(rec, f, \"fasta\")\n",
    "    return str(rec.seq)\n",
    "\n",
    "x = fetch_and_save(\"NM_000492\")\n",
    "y = fetch_and_save(\"NM_021050\")\n",
    "z = fetch_and_save(\"NM_031506\")\n",
    "\n",
    "print(f\"Fetched lengths: {len(x)}, {len(y)}, {len(z)}\")"
   ]
  },
  {
   "cell_type": "code",
   "execution_count": null,
   "id": "efc4e181-8277-4dfc-8fa9-1f3fee0eab5b",
   "metadata": {},
   "outputs": [],
   "source": [
    "scoring = read_scoring(\"scoring.txt\")\n",
    "\n",
    "A, B, C, score = hirschberg3(x, y, z, scoring)\n",
    "\n",
    "# output\n",
    "print(\"Score:\", score)\n",
    "# print(\">seq1_aligned\\n\", A)\n",
    "# print(\">seq2_aligned\\n\", B)\n",
    "# print(\">seq3_aligned\\n\", C)"
   ]
  }
 ],
 "metadata": {
  "kernelspec": {
   "display_name": "Python 3 (ipykernel)",
   "language": "python",
   "name": "python3"
  },
  "language_info": {
   "codemirror_mode": {
    "name": "ipython",
    "version": 3
   },
   "file_extension": ".py",
   "mimetype": "text/x-python",
   "name": "python",
   "nbconvert_exporter": "python",
   "pygments_lexer": "ipython3",
   "version": "3.12.7"
  }
 },
 "nbformat": 4,
 "nbformat_minor": 5
}
